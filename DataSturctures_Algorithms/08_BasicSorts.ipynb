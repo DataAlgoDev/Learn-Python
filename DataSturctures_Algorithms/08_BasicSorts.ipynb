{
 "cells": [
  {
   "cell_type": "markdown",
   "metadata": {},
   "source": [
    "## 1. Bubble Sort\n",
    "During each pass thruough the list, the largest unsorted element gets bubbled up to the  right.\n",
    "\n",
    "Time complexity - omega(n), O(n^2)\n",
    "\n",
    "Space complexity - O(1)"
   ]
  },
  {
   "cell_type": "code",
   "execution_count": 1,
   "metadata": {},
   "outputs": [],
   "source": [
    "def bubble_sort(my_list):\n",
    "    for i in range(len(my_list) - 1, 0, -1):\n",
    "        for j in range(i):\n",
    "            if my_list[j] > my_list[j + 1]:\n",
    "                my_list[j], my_list[j + 1] = my_list[j + 1], my_list[j]\n",
    "    return my_list"
   ]
  },
  {
   "cell_type": "code",
   "execution_count": 2,
   "metadata": {},
   "outputs": [
    {
     "name": "stdout",
     "output_type": "stream",
     "text": [
      "[1, 2, 3, 4, 5, 6]\n"
     ]
    }
   ],
   "source": [
    "print(bubble_sort([4, 2, 6, 5, 1, 3]))"
   ]
  },
  {
   "cell_type": "markdown",
   "metadata": {},
   "source": [
    "## 2. Selection Sort\n",
    "\n",
    "Keeps track of the index of min value during each pass through\n",
    "\n",
    "Time complexity - omega(n^2), O(n^2)\n",
    "\n",
    "Space complexity - O(1)"
   ]
  },
  {
   "cell_type": "code",
   "execution_count": 3,
   "metadata": {},
   "outputs": [],
   "source": [
    "def selection_sort(my_list):\n",
    "    for i in range(len(my_list) - 1):\n",
    "        min_index = i\n",
    "        for j in range(i + 1, len(my_list)):\n",
    "            if my_list[j] < my_list[min_index]:\n",
    "                min_index = j\n",
    "        if i != min_index:\n",
    "            my_list[i], my_list[min_index] = my_list[min_index], my_list[i]\n",
    "    return my_list"
   ]
  },
  {
   "cell_type": "code",
   "execution_count": 4,
   "metadata": {},
   "outputs": [
    {
     "name": "stdout",
     "output_type": "stream",
     "text": [
      "[1, 2, 3, 4, 5, 6]\n"
     ]
    }
   ],
   "source": [
    "print(selection_sort([4, 2, 6, 5, 1, 3]))"
   ]
  },
  {
   "cell_type": "markdown",
   "metadata": {},
   "source": [
    "## 3. Insertion Sort\n",
    "\n",
    "Moves backwards to find the min value during each pass through\n",
    "\n",
    "\n",
    "Time complexity - omega(n), O(n^2),\n",
    "\n",
    "Space complexity - O(1)"
   ]
  },
  {
   "cell_type": "code",
   "execution_count": 7,
   "metadata": {},
   "outputs": [],
   "source": [
    "def insertion_sort(my_list):\n",
    "    for i in range(1, len(my_list)):\n",
    "        temp = my_list[i]\n",
    "        j = i - 1\n",
    "        while temp < my_list[j] and j > -1:\n",
    "            my_list[j + 1] = my_list[j]\n",
    "            my_list[j] = temp\n",
    "            j -= 1\n",
    "    return my_list\n"
   ]
  },
  {
   "cell_type": "code",
   "execution_count": 8,
   "metadata": {},
   "outputs": [
    {
     "name": "stdout",
     "output_type": "stream",
     "text": [
      "[1, 2, 3, 4, 5, 6]\n"
     ]
    }
   ],
   "source": [
    "print(insertion_sort([4, 2, 6, 5, 1, 3]))"
   ]
  },
  {
   "cell_type": "markdown",
   "metadata": {},
   "source": [
    "## Basic Sorts on a Linked list"
   ]
  },
  {
   "cell_type": "code",
   "execution_count": 22,
   "metadata": {},
   "outputs": [],
   "source": [
    "class Node:\n",
    "    def __init__(self, value):\n",
    "        self.value = value\n",
    "        self.next = None\n",
    "        \n",
    "class LinkedList:\n",
    "    def __init__(self, value):\n",
    "        new_node = Node(value)\n",
    "        self.head = new_node\n",
    "        self.tail = new_node\n",
    "        self.length = 1\n",
    "\n",
    "    def print_list(self):\n",
    "        temp = self.head\n",
    "        while temp is not None:\n",
    "            print(temp.value, end = \"-> \")\n",
    "            temp = temp.next\n",
    "        \n",
    "    def append(self, value):\n",
    "        new_node = Node(value)\n",
    "        if self.head is None:\n",
    "            self.head = new_node\n",
    "            self.tail = new_node\n",
    "        else:\n",
    "            self.tail.next = new_node\n",
    "            self.tail = new_node\n",
    "        self.length += 1\n",
    "\n",
    "    def bubble_sort(self):\n",
    "        if self.length > 1:\n",
    "            current = self.head\n",
    "            for i in range(self.length - 1, 0, -1):\n",
    "                current = self.head\n",
    "                for j in range(i):\n",
    "                    if current.value > current.next.value:\n",
    "                        current.value, current.next.value = current.next.value, current.value\n",
    "                    current = current.next\n",
    "\n",
    "    def selection_sort(self):\n",
    "        if self.head and self.head.next:\n",
    "            start_node = self.head\n",
    "            \n",
    "            for i in range(self.length - 1):\n",
    "                min_node = start_node\n",
    "                current_node = start_node.next\n",
    "            \n",
    "                for _ in range(i + 1, self.length):\n",
    "                    if current_node.value < min_node.value:\n",
    "                        min_node = current_node\n",
    "                    current_node = current_node.next\n",
    "                if current_node != min_node:\n",
    "                    start_node.value, min_node.value = min_node.value, start_node.value\n",
    "                start_node = start_node.next\n",
    "\n",
    "    def insertion_sort(self):\n",
    "        if self.length < 2:\n",
    "            return\n",
    "        \n",
    "        sorted_list_head = self.head\n",
    "        unsorted_list_head = self.head.next\n",
    "        sorted_list_head.next = None\n",
    "        \n",
    "        while unsorted_list_head is not None:\n",
    "            current = unsorted_list_head\n",
    "            unsorted_list_head = unsorted_list_head.next\n",
    "            \n",
    "            if current.value < sorted_list_head.value:\n",
    "                current.next = sorted_list_head\n",
    "                sorted_list_head = current\n",
    "            else:\n",
    "                search_pointer = sorted_list_head\n",
    "                while search_pointer.next is not None and current.value > search_pointer.next.value:\n",
    "                    search_pointer = search_pointer.next\n",
    "                current.next = search_pointer.next\n",
    "                search_pointer.next = current\n",
    "        \n",
    "        self.head = sorted_list_head\n",
    "        temp = self.head\n",
    "        while temp.next is not None:\n",
    "            temp = temp.next\n",
    "        self.tail = temp\n"
   ]
  },
  {
   "cell_type": "code",
   "execution_count": 29,
   "metadata": {},
   "outputs": [
    {
     "name": "stdout",
     "output_type": "stream",
     "text": [
      "Linked List Before sort:\n",
      "4-> 2-> 6-> 5-> 1-> 3-> \n",
      "\n",
      "Linked List after Bubble sort:\n",
      "1-> 2-> 3-> 4-> 5-> 6-> "
     ]
    }
   ],
   "source": [
    "# Bubble sort\n",
    "\n",
    "my_linked_list = LinkedList(4)\n",
    "my_linked_list.append(2)\n",
    "my_linked_list.append(6)\n",
    "my_linked_list.append(5)\n",
    "my_linked_list.append(1)\n",
    "my_linked_list.append(3)\n",
    "\n",
    "print(\"Linked List Before sort:\")\n",
    "my_linked_list.print_list()\n",
    "\n",
    "my_linked_list.bubble_sort()\n",
    "\n",
    "print(\"\\n\\nLinked List after Bubble sort:\")\n",
    "my_linked_list.print_list()"
   ]
  },
  {
   "cell_type": "code",
   "execution_count": 28,
   "metadata": {},
   "outputs": [
    {
     "name": "stdout",
     "output_type": "stream",
     "text": [
      "Linked List Before sort:\n",
      "4-> 2-> 6-> 5-> 1-> 3-> \n",
      "\n",
      "Linked List after Selection sort:\n",
      "1-> 2-> 3-> 4-> 5-> 6-> "
     ]
    }
   ],
   "source": [
    "# Selection sort\n",
    "\n",
    "my_linked_list = LinkedList(4)\n",
    "my_linked_list.append(2)\n",
    "my_linked_list.append(6)\n",
    "my_linked_list.append(5)\n",
    "my_linked_list.append(1)\n",
    "my_linked_list.append(3)\n",
    "\n",
    "print(\"Linked List Before sort:\")\n",
    "my_linked_list.print_list()\n",
    "\n",
    "my_linked_list.selection_sort()\n",
    "\n",
    "print(\"\\n\\nLinked List after Selection sort:\")\n",
    "my_linked_list.print_list()"
   ]
  },
  {
   "cell_type": "code",
   "execution_count": 27,
   "metadata": {},
   "outputs": [
    {
     "name": "stdout",
     "output_type": "stream",
     "text": [
      "Linked List Before sort:\n",
      "4-> 2-> 6-> 5-> 1-> 3-> \n",
      "\n",
      "Linked List after Insertion sort:\n",
      "1-> 2-> 3-> 4-> 5-> 6-> "
     ]
    }
   ],
   "source": [
    "# Inserion sort\n",
    "\n",
    "my_linked_list = LinkedList(4)\n",
    "my_linked_list.append(2)\n",
    "my_linked_list.append(6)\n",
    "my_linked_list.append(5)\n",
    "my_linked_list.append(1)\n",
    "my_linked_list.append(3)\n",
    "\n",
    "print(\"Linked List Before sort:\")\n",
    "my_linked_list.print_list()\n",
    "\n",
    "my_linked_list.insertion_sort()\n",
    "\n",
    "print(\"\\n\\nLinked List after Insertion sort:\")\n",
    "my_linked_list.print_list()"
   ]
  }
 ],
 "metadata": {
  "kernelspec": {
   "display_name": "Python 3",
   "language": "python",
   "name": "python3"
  },
  "language_info": {
   "codemirror_mode": {
    "name": "ipython",
    "version": 3
   },
   "file_extension": ".py",
   "mimetype": "text/x-python",
   "name": "python",
   "nbconvert_exporter": "python",
   "pygments_lexer": "ipython3",
   "version": "3.12.2"
  }
 },
 "nbformat": 4,
 "nbformat_minor": 2
}
