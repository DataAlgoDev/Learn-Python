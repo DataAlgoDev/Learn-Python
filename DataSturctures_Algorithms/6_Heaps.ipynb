{
 "cells": [
  {
   "cell_type": "markdown",
   "metadata": {},
   "source": [
    "## Heaps"
   ]
  },
  {
   "cell_type": "markdown",
   "metadata": {},
   "source": [
    "Heaps are implementation of binary trees.\n",
    "Heaps are either in descending / ascending order (exact oder is not required), where parent nodes are larger than its child or smaller than its child (Min / Max heaps)\n",
    "\n",
    "Conditions for heaps are :\n",
    "1. Should be a complete tree (no gap in the order but not necessarily a perfect tree).\n",
    "2. For min and Max Heaps :\n",
    "    1. Max Heap - Highest value always at the top. Parent value is always bigger than children values. \n",
    "    2. Min Heap - Least value always at the top. Parent value is always lesser than children values.\n",
    "3. Heaps can contain duplicates unlike a normal tree\n",
    "4. Heaps don't follow any order like a BST ie, they are not good for searching(Not sorted by values in any order)\n",
    "5. Generally used for keeping track of the smallest/largest item(or a priority queue) and removing higest priority item in O(log(n))\n",
    "6. *Priority queue is a queue where you have to treat the 'root'/top value with most priority.\n",
    "\n",
    "Note:\n",
    "Heap structures in adjacency list are represented mostly in Breadth first order. And the datastructure is based on index positions on the list."
   ]
  },
  {
   "cell_type": "code",
   "execution_count": 96,
   "metadata": {},
   "outputs": [],
   "source": [
    "# Max Heap\n",
    "# Heap created here using Adjacency list doesnt maintain sorted order in its list form, onyl the priority item is bubbled/sunk\n",
    "\n",
    "class MaxHeap:\n",
    "    def __init__(self):\n",
    "        self.heap = []\n",
    "    # _func are helper function defined to support the main functions\n",
    "    def _left_child(self, index):\n",
    "        return 2 * index + 1\n",
    "    \n",
    "    def _right_child(self, index):\n",
    "        return 2 * index + 2\n",
    "    \n",
    "    def _parent(self, index):\n",
    "        return (index - 1) // 2\n",
    "\n",
    "    def _swap(self, index1, index2): # If the parent in smaller swap the new value with its parent\n",
    "        self.heap[index1], self.heap[index2] = self.heap[index2], self.heap[index1]\n",
    "\n",
    "    def insert(self, value): # append value first and bubble-up\n",
    "        self.heap.append(value)\n",
    "        current = len(self.heap) - 1\n",
    "        # Bubble up - O(log n)\n",
    "        while current > 0 and self.heap[current] > self.heap[self._parent(current)]:\n",
    "            self._swap(current, self._parent(current))\n",
    "            current = self._parent(current)\n",
    "\n",
    "    def remove(self):\n",
    "        # Pop the last value and replace it with first value, then sink-down to maintain heap property\n",
    "        if len(self.heap) == 0:\n",
    "            return None\n",
    "        if len(self.heap) == 1:\n",
    "            return self.heap.pop()\n",
    "        \n",
    "        max_value = self.heap[0]\n",
    "        self.heap[0] = self.heap.pop()\n",
    "        self._sink_down(0)\n",
    "\n",
    "        return max_value\n",
    "    \n",
    "    def _sink_down(self, index):\n",
    "        # Sink down - O(log n)\n",
    "        max_index = index\n",
    "        while True:\n",
    "            left_index = self._left_child(index)\n",
    "            right_index = self._right_child(index)\n",
    "\n",
    "            if left_index < len(self.heap) and self.heap[left_index] > self.heap[max_index]:\n",
    "                max_index = left_index\n",
    "\n",
    "            if right_index < len(self.heap) and self.heap[right_index] > self.heap[max_index]:\n",
    "                max_index = right_index\n",
    "\n",
    "            if max_index != index:\n",
    "                self._swap(index, max_index)\n",
    "                index = max_index\n",
    "\n",
    "            else:\n",
    "                return"
   ]
  },
  {
   "cell_type": "code",
   "execution_count": 97,
   "metadata": {},
   "outputs": [
    {
     "name": "stdout",
     "output_type": "stream",
     "text": [
      "[95, 75, 80, 55, 60, 50, 65]\n",
      "[80, 75, 65, 55, 60, 50]\n",
      "[75, 60, 65, 55, 50]\n"
     ]
    }
   ],
   "source": [
    "my_heap = MaxHeap()\n",
    "my_heap.insert(95)\n",
    "my_heap.insert(75)\n",
    "my_heap.insert(80)\n",
    "my_heap.insert(55)\n",
    "my_heap.insert(60)\n",
    "my_heap.insert(50)\n",
    "my_heap.insert(65)\n",
    "\n",
    "print(my_heap.heap)\n",
    "\n",
    "my_heap.remove()\n",
    "print(my_heap.heap)\n",
    "my_heap.remove()\n",
    "print(my_heap.heap)"
   ]
  },
  {
   "cell_type": "code",
   "execution_count": 5,
   "metadata": {},
   "outputs": [
    {
     "name": "stdout",
     "output_type": "stream",
     "text": [
      "[2, 6, 4, 12, 8, 10]\n",
      "Removed: 2, Heap: [4, 6, 10, 12, 8]\n",
      "Removed: 4, Heap: [6, 8, 10, 12]\n",
      "Removed: 6, Heap: [8, 12, 10]\n"
     ]
    }
   ],
   "source": [
    "# Min heap\n",
    "\n",
    "class MinHeap:\n",
    "    def __init__(self):\n",
    "        self.heap = []\n",
    "\n",
    "    def _left_child(self, index):\n",
    "        return 2 * index + 1\n",
    "\n",
    "    def _right_child(self, index):\n",
    "        return 2 * index + 2\n",
    "\n",
    "    def _parent(self, index):\n",
    "        return (index - 1) // 2\n",
    "\n",
    "    def _swap(self, index1, index2):\n",
    "        self.heap[index1], self.heap[index2] = self.heap[index2], self.heap[index1]\n",
    "\n",
    "    def insert(self, value):\n",
    "        self.heap.append(value)\n",
    "        current = len(self.heap) - 1\n",
    "\n",
    "        while current > 0 and self.heap[current] < self.heap[self._parent(current)]:\n",
    "            self._swap(current, self._parent(current))\n",
    "            current = self._parent(current)\n",
    "\n",
    "    def _sink_down(self, index):\n",
    "        min_index = index\n",
    "\n",
    "        while True:\n",
    "            left_index = self._left_child(index)\n",
    "            right_index = self._right_child(index)\n",
    "\n",
    "            if left_index < len(self.heap) and self.heap[left_index] < self.heap[min_index]:\n",
    "                min_index = left_index\n",
    "                \n",
    "            if right_index < len(self.heap) and self.heap[right_index] < self.heap[min_index]:\n",
    "                min_index = right_index\n",
    "                \n",
    "            if min_index != index:\n",
    "                self._swap(index, min_index)\n",
    "                index = min_index\n",
    "            else:\n",
    "                return\n",
    "\n",
    "    def remove(self):\n",
    "        if len(self.heap) == 0:\n",
    "            return None\n",
    "\n",
    "        if len(self.heap) == 1:\n",
    "            return self.heap.pop()\n",
    "\n",
    "        min_value = self.heap[0]\n",
    "        self.heap[0] = self.heap.pop()\n",
    "        self._sink_down(0)\n",
    "\n",
    "        return min_value\n",
    "    \n",
    "\n",
    "myheap = MinHeap()\n",
    "myheap.insert(12)\n",
    "myheap.insert(10)\n",
    "myheap.insert(8)\n",
    "myheap.insert(6)\n",
    "myheap.insert(4)\n",
    "myheap.insert(2)\n",
    "\n",
    "print(myheap.heap)  # [2, 6, 4, 12, 8, 10]\n",
    "\n",
    "removed = myheap.remove()\n",
    "print(f'Removed: {removed}, Heap: {myheap.heap}')  # Removed: 2, Heap: [4, 6, 10, 12, 8]\n",
    "\n",
    "removed = myheap.remove()\n",
    "print(f'Removed: {removed}, Heap: {myheap.heap}')  # Removed: 4, Heap: [6, 8, 10, 12]\n",
    "\n",
    "removed = myheap.remove()\n",
    "print(f'Removed: {removed}, Heap: {myheap.heap}')  # Removed: 6, Heap: [8, 12, 10]\n",
    "        "
   ]
  },
  {
   "cell_type": "code",
   "execution_count": 3,
   "metadata": {},
   "outputs": [
    {
     "name": "stdout",
     "output_type": "stream",
     "text": [
      "[2, 6, 4, 12, 8, 10]\n",
      "Removed: 2, Heap: [4, 6, 10, 12, 8]\n",
      "Removed: 4, Heap: [6, 8, 10, 12]\n",
      "Removed: 6, Heap: [8, 12, 10]\n"
     ]
    }
   ],
   "source": [
    "myheap = MinHeap()\n",
    "myheap.insert(12)\n",
    "myheap.insert(10)\n",
    "myheap.insert(8)\n",
    "myheap.insert(6)\n",
    "myheap.insert(4)\n",
    "myheap.insert(2)\n",
    "\n",
    "print(myheap.heap)  # [2, 6, 4, 12, 8, 10]\n",
    "\n",
    "removed = myheap.remove()\n",
    "print(f'Removed: {removed}, Heap: {myheap.heap}')  # Removed: 2, Heap: [4, 6, 10, 12, 8]\n",
    "\n",
    "removed = myheap.remove()\n",
    "print(f'Removed: {removed}, Heap: {myheap.heap}')  # Removed: 4, Heap: [6, 8, 10, 12]\n",
    "\n",
    "removed = myheap.remove()\n",
    "print(f'Removed: {removed}, Heap: {myheap.heap}')  # Removed: 6, Heap: [8, 12, 10]"
   ]
  },
  {
   "cell_type": "code",
   "execution_count": 81,
   "metadata": {},
   "outputs": [
    {
     "name": "stdout",
     "output_type": "stream",
     "text": [
      "[1, 3, 2, 4, 5, 6]\n",
      "1\n",
      "2\n",
      "3\n",
      "4\n",
      "5\n",
      "6\n",
      "[]\n"
     ]
    }
   ],
   "source": [
    "import heapq # Heap module\n",
    "\n",
    "nums = [3,1,2,4,5,6]\n",
    "\n",
    "heapq.heapify(nums) # Creates a MinHeap, for creating maxheap, values must be given as negative numbers\n",
    "print(nums)\n",
    "print(heapq.heappop(nums))\n",
    "print(heapq.heappop(nums))\n",
    "print(heapq.heappop(nums))\n",
    "print(heapq.heappop(nums))\n",
    "print(heapq.heappop(nums))\n",
    "print(heapq.heappop(nums))\n",
    "\n",
    "print(nums)"
   ]
  },
  {
   "cell_type": "code",
   "execution_count": 82,
   "metadata": {},
   "outputs": [
    {
     "name": "stdout",
     "output_type": "stream",
     "text": [
      "[1, 5, 2, 8]\n",
      "[5, 2, 8]\n",
      "5\n",
      "[2, 8]\n"
     ]
    }
   ],
   "source": [
    "heapq.heappush(nums, 8)\n",
    "heapq.heappush(nums, 1)\n",
    "heapq.heappush(nums, 2)\n",
    "heapq.heappush(nums, 5)\n",
    "\n",
    "print(nums)\n",
    "nums.pop(0) # normal pop() on a heap doesn't maintain the heap property, same for append\n",
    "print(nums)\n",
    "print(heapq.heappop(nums))\n",
    "print(nums)"
   ]
  },
  {
   "cell_type": "code",
   "execution_count": 86,
   "metadata": {},
   "outputs": [
    {
     "name": "stdout",
     "output_type": "stream",
     "text": [
      "[0, 1, 3, 2, 3, 2, 4, 5, 6, 8, 4, 9]\n"
     ]
    },
    {
     "data": {
      "text/plain": [
       "0"
      ]
     },
     "execution_count": 86,
     "metadata": {},
     "output_type": "execute_result"
    }
   ],
   "source": [
    "l1 = [3,1,2,4,5,6]\n",
    "l2 = [2,3,0,8,4,9]\n",
    "\n",
    "heapq.heapify(l1)\n",
    "heapq.heapify(l2)\n",
    "\n",
    "l3 = list(heapq.merge(l1, l2)) # Merges two heapified heaps\n",
    "\n",
    "print(l3)\n",
    "\n",
    "heapq.heappop(l3)"
   ]
  },
  {
   "cell_type": "code",
   "execution_count": 20,
   "metadata": {},
   "outputs": [
    {
     "name": "stdout",
     "output_type": "stream",
     "text": [
      "[-2, 0, 5, 6, 7, 11, 12, 13, 14, 19]\n"
     ]
    }
   ],
   "source": [
    "# Heap Sort O(n log n)\n",
    "from typing import List\n",
    "\n",
    "class HeapSort():\n",
    "    @staticmethod\n",
    "    # Helper function to maintain heap structure\n",
    "    def heapfy(arr : List, root : int, n : int) -> None:\n",
    "        new_root = root\n",
    "        left = 2 * root + 1\n",
    "        right = 2 * root + 2\n",
    "\n",
    "        if left < n and arr[left] > arr[new_root]:\n",
    "            new_root = left\n",
    "\n",
    "        if right < n and arr[right] > arr[new_root]:\n",
    "            new_root = right\n",
    "\n",
    "        if new_root != root:\n",
    "            arr[new_root], arr[root] = arr[root], arr[new_root]\n",
    "            HeapSort.heapfy(arr, new_root, n)\n",
    "\n",
    "    @staticmethod\n",
    "    # Sorts the array in place\n",
    "    def heapsort(arr : List) -> None:\n",
    "        n = len(arr)\n",
    "\n",
    "        # Builds a Max heap\n",
    "        for i in range(n // 2 - 1, -1, -1):\n",
    "            HeapSort.heapfy(arr, i, n)\n",
    "            \n",
    "        # Bigger values gets moved to the end and size of heap reduces one at a time. O(n log n) \n",
    "        for i in range(n - 1, 0, -1):\n",
    "            arr[i], arr[0] = arr[0], arr[i]\n",
    "            HeapSort.heapfy(arr, 0, i)\n",
    "\n",
    "my_arr = [12, 11, 13, 5, 6, 7, 14, 19, 0, -2]\n",
    "HeapSort.heapsort(my_arr)\n",
    "print(my_arr)\n"
   ]
  },
  {
   "cell_type": "code",
   "execution_count": 10,
   "metadata": {},
   "outputs": [
    {
     "name": "stdout",
     "output_type": "stream",
     "text": [
      "[-2, 0, 5, 6, 7, 11, 12, 13, 14, 19]\n"
     ]
    }
   ],
   "source": [
    "my_arr = [12, 11, 13, 5, 6, 7, 14, 19, 0, -2]\n",
    "HeapSort.heapsort(my_arr)\n",
    "print(my_arr)"
   ]
  }
 ],
 "metadata": {
  "kernelspec": {
   "display_name": "Python 3",
   "language": "python",
   "name": "python3"
  },
  "language_info": {
   "codemirror_mode": {
    "name": "ipython",
    "version": 3
   },
   "file_extension": ".py",
   "mimetype": "text/x-python",
   "name": "python",
   "nbconvert_exporter": "python",
   "pygments_lexer": "ipython3",
   "version": "3.12.2"
  }
 },
 "nbformat": 4,
 "nbformat_minor": 2
}
