{
 "cells": [
  {
   "cell_type": "markdown",
   "metadata": {},
   "source": [
    "## Merge Sort\n",
    "\n",
    "\n",
    "Time complexity : O(n log(n)) : Divide and conquer\n",
    "\n",
    "\n",
    "Space complecity : O(n) : New list is created"
   ]
  },
  {
   "cell_type": "code",
   "execution_count": 4,
   "metadata": {},
   "outputs": [],
   "source": [
    "from typing import List\n",
    "\n",
    "class MergeSort():\n",
    "    @staticmethod\n",
    "    # Helper function that creates new sorted list. O(n)\n",
    "    def _merge(left : List, right : List[int]) -> List[int]:\n",
    "\n",
    "        combined = []\n",
    "        i, j = 0, 0\n",
    "\n",
    "        while i < len(left) and j < len(right):\n",
    "            if left[i] < right[j]:\n",
    "                combined.append(left[i])\n",
    "                i += 1\n",
    "            else:\n",
    "                combined.append(right[j])\n",
    "                j += 1\n",
    "        while i < len(left):\n",
    "            combined.append(left[i])\n",
    "            i += 1\n",
    "        while j < len(right):\n",
    "            combined.append(right[j])\n",
    "            j += 1\n",
    "        return combined\n",
    "    \n",
    "    @staticmethod\n",
    "    # O(log n)\n",
    "    def mergesort(arr : List[int]) -> List[int]:\n",
    "        # Base case\n",
    "        if len(arr) <= 1:\n",
    "            return arr\n",
    "        mid = int(len(arr) / 2)\n",
    "        left = MergeSort.mergesort(arr[:mid])\n",
    "        right = MergeSort.mergesort(arr[mid:])\n",
    "        return MergeSort._merge(left, right)\n"
   ]
  },
  {
   "cell_type": "code",
   "execution_count": 8,
   "metadata": {},
   "outputs": [
    {
     "name": "stdout",
     "output_type": "stream",
     "text": [
      "Original list : [3, 1, 7, 4, 2, 6, 5, 8]\n",
      "Sorted list : [1, 2, 3, 4, 5, 6, 7, 8]\n",
      "False\n"
     ]
    }
   ],
   "source": [
    "# print(merge([1, 2, 7, 8], [3, 4, 5, 6]))\n",
    "original_list = [3, 1, 7, 4, 2, 6, 5, 8]\n",
    "sorted_list = MergeSort.mergesort(original_list)\n",
    "\n",
    "print('Original list :', original_list)\n",
    "print('Sorted list :', sorted_list)\n",
    "\n",
    "print(id(sorted_list) == id(original_list))\n",
    "# Sorted list is different from original list"
   ]
  },
  {
   "cell_type": "markdown",
   "metadata": {},
   "source": [
    "## Quick Sort\n",
    "\n",
    "Time complexity : O(n log n)\n",
    "\n",
    "Space complecity : O(1)"
   ]
  },
  {
   "cell_type": "code",
   "execution_count": 3,
   "metadata": {},
   "outputs": [
    {
     "name": "stdout",
     "output_type": "stream",
     "text": [
      "Sorted array: [-2, 0, 5, 6, 7, 11, 12, 13, 14, 19]\n"
     ]
    }
   ],
   "source": [
    "from typing import List\n",
    "\n",
    "def quick_sort_in_place(arr: List[int], low: int, high: int) -> None:\n",
    "    if low < high:\n",
    "        # Partition the array and get the pivot index\n",
    "        pivot_index = partition(arr, low, high)\n",
    "\n",
    "        # Recursively sort elements before and after partition\n",
    "        quick_sort_in_place(arr, low, pivot_index - 1)\n",
    "        quick_sort_in_place(arr, pivot_index + 1, high)\n",
    "\n",
    "def partition(arr: List[int], low: int, high: int) -> int:\n",
    "    pivot = arr[high]  # Choose the last element as pivot\n",
    "    i = low - 1  # Pointer for the smaller element\n",
    "\n",
    "    for j in range(low, high):\n",
    "        if arr[j] < pivot:  # If the current element is smaller than or equal to pivot\n",
    "            i += 1  # Increment the index of the smaller element\n",
    "            arr[i], arr[j] = arr[j], arr[i]  # Swap\n",
    "\n",
    "    # Swap the pivot element with the element at i + 1\n",
    "    arr[i + 1], arr[high] = arr[high], arr[i + 1]\n",
    "    return i + 1  # Return the pivot index\n",
    "\n",
    "my_arr = [12, 11, 13, 5, 6, 7, 14, 19, 0, -2]\n",
    "quick_sort_in_place(my_arr, 0, len(my_arr) - 1)\n",
    "print(\"Sorted array:\", my_arr)\n"
   ]
  }
 ],
 "metadata": {
  "kernelspec": {
   "display_name": "Python 3",
   "language": "python",
   "name": "python3"
  },
  "language_info": {
   "codemirror_mode": {
    "name": "ipython",
    "version": 3
   },
   "file_extension": ".py",
   "mimetype": "text/x-python",
   "name": "python",
   "nbconvert_exporter": "python",
   "pygments_lexer": "ipython3",
   "version": "3.12.2"
  }
 },
 "nbformat": 4,
 "nbformat_minor": 2
}
