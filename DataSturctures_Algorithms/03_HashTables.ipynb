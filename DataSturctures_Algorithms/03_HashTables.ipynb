{
 "cells": [
  {
   "cell_type": "markdown",
   "metadata": {},
   "source": [
    "## Hash Tables"
   ]
  },
  {
   "cell_type": "markdown",
   "metadata": {},
   "source": [
    "Hash tables have O(1) lookup time for keys"
   ]
  },
  {
   "cell_type": "code",
   "execution_count": 2,
   "metadata": {},
   "outputs": [
    {
     "name": "stdout",
     "output_type": "stream",
     "text": [
      "0 : None\n",
      "1 : None\n",
      "2 : None\n",
      "3 : None\n",
      "4 : None\n",
      "\n",
      "0 : [['Krishna', 64]]\n",
      "1 : [['Ajay', 45], ['Akhil', 18], ['Jubi', 96]]\n",
      "2 : None\n",
      "3 : None\n",
      "4 : [['Pranav', 54]]\n",
      "\n"
     ]
    }
   ],
   "source": [
    "class HashTable:\n",
    "    def __init__(self, size = 10):\n",
    "        self.size = size\n",
    "        self.hash_table = [None] * size\n",
    "\n",
    "    def print_table(self) -> None:\n",
    "        for index, value in enumerate(self.hash_table):\n",
    "            print(index, \":\" ,value)\n",
    "        print()\n",
    "\n",
    "    def get_value(self, key):\n",
    "        index = self.__hash(key)\n",
    "        result = self.hash_table[index]\n",
    "        if result is not None:\n",
    "            for item in result:\n",
    "                if item[0] == key:\n",
    "                    return item[1]\n",
    "        return None\n",
    "        \n",
    "    def __hash(self, key: str) -> int:\n",
    "        hash_num = 0\n",
    "        for c in key:\n",
    "            hash_num = (hash_num + ord(c) * 69) % self.size\n",
    "        return hash_num\n",
    "        \n",
    "    def set_item(self, key, value) -> None:\n",
    "        index = self.__hash(key)\n",
    "        if self.hash_table[index] is None:\n",
    "            self.hash_table[index] = []\n",
    "        self.hash_table[index].append([key, value])\n",
    "\n",
    "\n",
    "\n",
    "ht = HashTable(5)\n",
    "ht.print_table()\n",
    "ht.set_item(\"Ajay\", 45)\n",
    "ht.set_item(\"Krishna\", 64)\n",
    "ht.set_item(\"Pranav\", 54)\n",
    "ht.set_item(\"Akhil\", 18)\n",
    "ht.set_item(\"Jubi\", 96)\n",
    "ht.print_table()\n",
    "ht.get_value(\"sdf\")\n"
   ]
  },
  {
   "cell_type": "markdown",
   "metadata": {},
   "source": [
    "    Key points to consider while implementing a hash table:\n",
    "\n",
    "1. Choose a good hash function that distributes keys uniformly and minimizes collisions.\n",
    "\n",
    "2. Handle collisions using strategies like chaining (storing multiple items in a list) or open addressing (finding another slot).\n",
    "3. Implement resizing when the load factor exceeds a certain threshold, rehashing existing entries.\n",
    "4. Keep track of the load factor, which is the ratio of elements to the table size.\n",
    "5. Ensure keys are immutable types and decide how to handle missing keys during retrieval.\n",
    "6. Aim for average-case time complexity of O(1) for insertions, deletions, and lookups, while being aware of worst-case scenarios.\n",
    "7. Manage memory efficiently, especially with chaining, to avoid excessive usage.\n",
    "8. If accessed by multiple threads, ensure thread safety with locks or concurrent structures.\n",
    "9. Test thoroughly for edge cases, including duplicates and high collision rates."
   ]
  }
 ],
 "metadata": {
  "kernelspec": {
   "display_name": "Python 3",
   "language": "python",
   "name": "python3"
  },
  "language_info": {
   "codemirror_mode": {
    "name": "ipython",
    "version": 3
   },
   "file_extension": ".py",
   "mimetype": "text/x-python",
   "name": "python",
   "nbconvert_exporter": "python",
   "pygments_lexer": "ipython3",
   "version": "3.12.2"
  }
 },
 "nbformat": 4,
 "nbformat_minor": 2
}
