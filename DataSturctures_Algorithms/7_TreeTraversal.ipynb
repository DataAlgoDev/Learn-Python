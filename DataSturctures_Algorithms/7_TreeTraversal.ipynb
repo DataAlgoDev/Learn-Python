{
 "cells": [
  {
   "cell_type": "markdown",
   "metadata": {},
   "source": [
    "## Tree Traversal Algorithms"
   ]
  },
  {
   "cell_type": "markdown",
   "metadata": {},
   "source": [
    "1. Breadth first search : Explores level by level starting from root.\n",
    "\n",
    "2. Depth first search : Starts at root or any node and explores depth before backtracking"
   ]
  },
  {
   "cell_type": "code",
   "execution_count": 2,
   "metadata": {},
   "outputs": [],
   "source": [
    "from queue import Queue\n",
    "\n",
    "class Node:\n",
    "    def __init__(self, value):\n",
    "        self.value = value\n",
    "        self.left = None\n",
    "        self.right = None\n",
    "        \n",
    "class BinarySearchTree:\n",
    "    def __init__(self):\n",
    "        self.root = None\n",
    "\n",
    "    def insert(self, value):\n",
    "        new_node = Node(value)\n",
    "        if self.root is None:\n",
    "            self.root = new_node\n",
    "            return True\n",
    "        temp = self.root\n",
    "        while (True):\n",
    "            if new_node.value == temp.value:\n",
    "                return False\n",
    "            if new_node.value < temp.value:\n",
    "                if temp.left is None:\n",
    "                    temp.left = new_node\n",
    "                    return True\n",
    "                temp = temp.left\n",
    "            else: \n",
    "                if temp.right is None:\n",
    "                    temp.right = new_node\n",
    "                    return True\n",
    "                temp = temp.right\n",
    "\n",
    "    def contains(self, value):\n",
    "        if self.root is None:\n",
    "            return False\n",
    "        temp = self.root\n",
    "        while (temp):\n",
    "            if value < temp.value:\n",
    "                temp = temp.left\n",
    "            elif value > temp.value:\n",
    "                temp = temp.right\n",
    "            else:\n",
    "                return True\n",
    "        return False\n",
    "    \n",
    "    #  ALSO WRITE BFS CAN BE WRITTEN WITH A QUEUE INSTEAD OF LIST\n",
    "    # (TECHNICALLY THIS IS A BETTER SOLUTION as all oeperations are constant time)\n",
    "    #\n",
    "    # def BFS(self):\n",
    "    #     current_node = self.root\n",
    "    #     queue = Queue()\n",
    "    #     results = []\n",
    "    #     queue.put(current_node)\n",
    "    #      # Insert an element\n",
    "    #     while not queue.empty():\n",
    "    #         current_node = queue.get()\n",
    "    #          # Remove an element\n",
    "    #         results.append(current_node.value)\n",
    "    #         if current_node.left is not None:\n",
    "    #             queue.put(current_node.left)\n",
    "    #         if current_node.right is not None:\n",
    "    #             queue.put(current_node.right)\n",
    "    #     return results\n",
    "                \n",
    "                \n",
    "    def BFS(self):\n",
    "        current_node = self.root\n",
    "        queue = []\n",
    "        results = []\n",
    "        queue.append(current_node)\n",
    "\n",
    "        while len(queue) > 0:\n",
    "            current_node = queue.pop(0)\n",
    "            # O(n)\n",
    "            results.append(current_node.value)\n",
    "            if current_node.left is not None:\n",
    "                queue.append(current_node.left)\n",
    "            if current_node.right is not None:\n",
    "                queue.append(current_node.right)\n",
    "        return results\n",
    "    \n",
    "    def dfs_pre_order(self):\n",
    "        results = []\n",
    "\n",
    "        def traverse(current_node):\n",
    "            results.append(current_node.value)\n",
    "            if current_node.left:\n",
    "                traverse(current_node.left)\n",
    "            if current_node.right:\n",
    "                traverse(current_node.right)\n",
    "            return current_node\n",
    "\n",
    "        traverse(self.root)\n",
    "        return results\n",
    "\n",
    "    def dfs_post_order(self):\n",
    "        results = []\n",
    "\n",
    "        def traverse(current_node):\n",
    "            if current_node.left:\n",
    "                traverse(current_node.left)\n",
    "            if current_node.right:\n",
    "                traverse(current_node.right)\n",
    "            results.append(current_node.value)\n",
    "\n",
    "        traverse(self.root)\n",
    "        return results\n",
    "    \n",
    "    def dfs_in_order(self):\n",
    "        results = []\n",
    "\n",
    "        def traverse(current_node):\n",
    "            if current_node.left:\n",
    "                traverse(current_node.left)\n",
    "            results.append(current_node.value)\n",
    "            if current_node.right:\n",
    "                traverse(current_node.right)\n",
    "\n",
    "        traverse(self.root)\n",
    "        return results"
   ]
  },
  {
   "cell_type": "code",
   "execution_count": 3,
   "metadata": {},
   "outputs": [],
   "source": [
    "#        47        \n",
    "#       /  \\       \n",
    "#      /    \\     \n",
    "#    21      76   \n",
    "#   /  \\    /  \\  \n",
    "# 18   27  52   82"
   ]
  },
  {
   "cell_type": "markdown",
   "metadata": {},
   "source": [
    "## Breadth First search"
   ]
  },
  {
   "cell_type": "code",
   "execution_count": 4,
   "metadata": {},
   "outputs": [
    {
     "name": "stdout",
     "output_type": "stream",
     "text": [
      "[47, 21, 76, 18, 27, 52, 82]\n"
     ]
    }
   ],
   "source": [
    "my_tree = BinarySearchTree()\n",
    "my_list = [47, 21, 76, 18, 27, 52, 82]\n",
    "# Answer should be same as above insert order\n",
    "for num in my_list:\n",
    "    my_tree.insert(num)\n",
    "    \n",
    "print(my_tree.BFS())"
   ]
  },
  {
   "cell_type": "markdown",
   "metadata": {},
   "source": [
    "## Depth First search\n",
    "1. Pre Order - Goes deep into the left most node appending values, then to the right of last level\n",
    "2. Post Order - Appends children of last level and comes up level by level\n",
    "3. In Order - Appends left most node and further comes back up"
   ]
  },
  {
   "cell_type": "code",
   "execution_count": 7,
   "metadata": {},
   "outputs": [
    {
     "name": "stdout",
     "output_type": "stream",
     "text": [
      "[47, 21, 18, 27, 76, 52, 82]\n",
      "[18, 27, 21, 52, 82, 76, 47]\n",
      "[18, 21, 27, 47, 52, 76, 82]\n"
     ]
    }
   ],
   "source": [
    "# Pre Order\n",
    "my_tree = BinarySearchTree()\n",
    "my_list = [47, 21, 76, 18, 27, 52, 82]\n",
    "# Expected result = [47, 21, 18, 27, 76, 52, 82]\n",
    "for num in my_list:\n",
    "    my_tree.insert(num)\n",
    "    \n",
    "print(my_tree.dfs_pre_order())\n",
    "# Expected result = [47, 21, 18, 27, 76, 52, 82]\n",
    "\n",
    "print(my_tree.dfs_in_order())\n",
    "# Expected result = [18, 21, 27, 47, 52, 76, 82]\n",
    "\n",
    "# Post order\n",
    "print(my_tree.dfs_post_order())\n",
    "# Expected result = [18, 27, 21, 52, 82, 76, 47]"
   ]
  }
 ],
 "metadata": {
  "kernelspec": {
   "display_name": "Python 3",
   "language": "python",
   "name": "python3"
  },
  "language_info": {
   "codemirror_mode": {
    "name": "ipython",
    "version": 3
   },
   "file_extension": ".py",
   "mimetype": "text/x-python",
   "name": "python",
   "nbconvert_exporter": "python",
   "pygments_lexer": "ipython3",
   "version": "3.12.2"
  }
 },
 "nbformat": 4,
 "nbformat_minor": 2
}
