{
 "cells": [
  {
   "cell_type": "markdown",
   "metadata": {},
   "source": [
    "## Stack"
   ]
  },
  {
   "cell_type": "code",
   "execution_count": 2,
   "metadata": {},
   "outputs": [
    {
     "name": "stdout",
     "output_type": "stream",
     "text": [
      "1-> \n",
      "Peeked value : 1\n",
      "5-> 4-> 3-> 2-> 1-> \n",
      "Peeked value : 5\n",
      "Popped value : 5\n",
      "Popped value : 4\n",
      "3-> 2-> 1-> "
     ]
    }
   ],
   "source": [
    "# Using Linked List\n",
    "# -----------------\n",
    "class Node:\n",
    "    def __init__(self, value):\n",
    "        self.value = value\n",
    "        self.next = None\n",
    "\n",
    "class Stack:\n",
    "    def __init__(self, value):\n",
    "        new_node = Node(value)\n",
    "        self.top = new_node\n",
    "        self.height = 1\n",
    "\n",
    "    def print_stack(self) -> None:\n",
    "        temp = self.top\n",
    "        while temp is not None:\n",
    "            print(f\"{temp.value}-> \", end = \"\")\n",
    "            temp = temp.next\n",
    "\n",
    "    def peek(self) -> Node:\n",
    "        if self.top:\n",
    "            return self.top\n",
    "\n",
    "    def push(self,value) -> bool:\n",
    "        new_node = Node(value)\n",
    "        if self.top is None:\n",
    "            self.top = new_node\n",
    "        else:\n",
    "            new_node.next = self.top\n",
    "            self.top = new_node\n",
    "        self.height += 1\n",
    "        return True\n",
    "\n",
    "    def pop(self) -> Node:\n",
    "        if self.top is None:\n",
    "            return None\n",
    "        popped = self.top\n",
    "        self.top = self.top.next\n",
    "        self.height -= 1\n",
    "        return popped\n",
    "\n",
    "\n",
    "my_stack = Stack(1)\n",
    "my_stack.print_stack()\n",
    "print(f\"\\nPeeked value : {my_stack.peek().value}\")\n",
    "my_stack.push(2)\n",
    "my_stack.push(3)\n",
    "my_stack.push(4)\n",
    "my_stack.push(5)\n",
    "my_stack.print_stack()\n",
    "print(f\"\\nPeeked value : {my_stack.peek().value}\")\n",
    "print(f\"Popped value : {my_stack.pop().value}\")\n",
    "print(f\"Popped value : {my_stack.pop().value}\")\n",
    "my_stack.print_stack()\n"
   ]
  },
  {
   "cell_type": "code",
   "execution_count": 3,
   "metadata": {},
   "outputs": [
    {
     "name": "stdout",
     "output_type": "stream",
     "text": [
      "[1]\n",
      "[1, 2, 3, 4, 5]\n",
      "popped value : 5\n",
      "Peeked vlaue : 4\n",
      "[1, 2, 3, 4]\n"
     ]
    }
   ],
   "source": [
    "# Stack using List\n",
    "# ----------------\n",
    "class Stack:\n",
    "    def __init__(self, value : int):\n",
    "        self.stack_list = [value]\n",
    "    \n",
    "    def print_stack(self) -> None:\n",
    "        print(self.stack_list)\n",
    "\n",
    "    def peek(self) -> int:\n",
    "        if self.stack_list is None:\n",
    "            return None\n",
    "        return self.stack_list[-1]\n",
    "\n",
    "    def push(self, value : int) -> bool:\n",
    "        self.stack_list.append(value)\n",
    "        return True\n",
    "\n",
    "    def pop(self) -> int:\n",
    "        return self.stack_list.pop()\n",
    "\n",
    "\n",
    "\n",
    "my_stack = Stack(1)\n",
    "my_stack.print_stack()\n",
    "my_stack.peek()\n",
    "my_stack.push(2)\n",
    "my_stack.push(3)\n",
    "my_stack.push(4)\n",
    "my_stack.push(5)\n",
    "my_stack.print_stack()\n",
    "print(f\"popped value : {my_stack.pop()}\")\n",
    "print(f\"Peeked vlaue : {my_stack.peek()}\")\n",
    "my_stack.print_stack()\n"
   ]
  },
  {
   "cell_type": "markdown",
   "metadata": {},
   "source": [
    "## Queue"
   ]
  },
  {
   "cell_type": "code",
   "execution_count": 162,
   "metadata": {},
   "outputs": [],
   "source": [
    "# Using Linked List\n",
    "# -----------------\n",
    "class Node:\n",
    "    def __init__(self, value):\n",
    "        self.value = value\n",
    "        self.next = None\n",
    "\n",
    "class Queue:\n",
    "    def __init__(self, value):\n",
    "        new_node = Node(value)\n",
    "        self.first = new_node\n",
    "        self.last = new_node\n",
    "        self.length = 1\n",
    "\n",
    "    def print_queue(self) -> None:\n",
    "        temp = self.first\n",
    "        while temp is not None:\n",
    "            print(f\"{temp.value}-> \", end = \"\")\n",
    "            temp = temp.next\n",
    "        print()\n",
    "    def enqueue(self, value : int) -> bool:\n",
    "        new_node = Node(value)\n",
    "        if self.first is None:\n",
    "            self.first = self.last = new_node\n",
    "        else:\n",
    "            self.last.next = new_node\n",
    "            self.last = new_node\n",
    "        self.length += 1\n",
    "        return True\n",
    "\n",
    "    def dequeue(self) -> Node:\n",
    "        if self.first is None:\n",
    "            return None\n",
    "        dequeued_node = self.first\n",
    "        self.first = self.first.next\n",
    "        if self.length == 1:\n",
    "            self.last = None\n",
    "        self.length -= 1\n",
    "        return dequeued_node\n",
    "\n",
    "\n",
    "my_q = Queue(1)\n",
    "my_q.enqueue(2)\n",
    "my_q.enqueue(3)\n",
    "my_q.enqueue(4)\n",
    "my_q.enqueue(5)\n",
    "my_q.print_queue()\n",
    "print(f\"Dequeued value : {my_q.dequeue().value}\")\n",
    "my_q.print_queue()\n",
    "print(f\"Dequeued value : {my_q.dequeue().value}\")\n",
    "my_q.print_queue()\n",
    "print(f\"Dequeued value : {my_q.dequeue().value}\")\n",
    "my_q.print_queue()\n",
    "print(f\"Dequeued value : {my_q.dequeue().value}\")\n",
    "my_q.print_queue()\n",
    "print(f\"Dequeued value : {my_q.dequeue().value}\")\n",
    "my_q.print_queue()"
   ]
  },
  {
   "cell_type": "code",
   "execution_count": 9,
   "metadata": {},
   "outputs": [
    {
     "name": "stdout",
     "output_type": "stream",
     "text": [
      "Queue :\n",
      "1 -> 2 -> 3 -> \n",
      "Dequeued value : 1\n",
      "Queue after dequeue :\n",
      "2 -> 3 -> \n",
      "Dequeued value : 2\n",
      "Queue after dequeue :\n",
      "3 -> \n",
      "Dequeued value : 3\n",
      "Queue after dequeue :\n"
     ]
    }
   ],
   "source": [
    "# Queue using List\n",
    "# ----------------\n",
    "class Queue:\n",
    "    def __init__(self):\n",
    "        self.queue_list = []\n",
    "\n",
    "    def is_empty(self):\n",
    "        return len(self.queue_list) == 0\n",
    "    \n",
    "    def print_queue(self):\n",
    "        if not self.is_empty():\n",
    "            for i in range(len(self.queue_list)):\n",
    "                print(self.queue_list[i], end = \" -> \")\n",
    "\n",
    "    def enqueue(self, value):\n",
    "        self.queue_list.append(value)\n",
    "\n",
    "    def dequeue(self):\n",
    "        if not self.is_empty():\n",
    "            return self.queue_list.pop(0)\n",
    "    \n",
    "\n",
    "q = Queue()\n",
    "q.enqueue(1)\n",
    "q.enqueue(2)\n",
    "q.enqueue(3)\n",
    "print(\"Queue :\")\n",
    "q.print_queue()\n",
    "print(\"\\nDequeued value :\", q.dequeue())\n",
    "print(\"Queue after dequeue :\")\n",
    "q.print_queue()\n",
    "print(\"\\nDequeued value :\", q.dequeue())\n",
    "print(\"Queue after dequeue :\")\n",
    "q.print_queue()\n",
    "print(\"\\nDequeued value :\", q.dequeue())\n",
    "print(\"Queue after dequeue :\")\n",
    "q.print_queue()"
   ]
  },
  {
   "cell_type": "code",
   "execution_count": 10,
   "metadata": {},
   "outputs": [],
   "source": [
    "#### Stack impementation using queue :\n",
    "#\n",
    "#              ---------------\n",
    "#   dequeue <- 1, 2, 3, 4, (5) <- enqueue\n",
    "#              ---------------\n",
    "# \n",
    "# To remove the last item (5) from the queue, pop and append n-1 times consecutively and finally pop the last item\n",
    "\n",
    "#### Queue implementation using stack :\n",
    "#\n",
    "#             [(1), 2, 3, 4, 5 <-> append / pop\n",
    "#\n",
    "# To remove the first element (1), use another stack and append values one by one n-1 and pop the last and append all back to original"
   ]
  },
  {
   "cell_type": "code",
   "execution_count": null,
   "metadata": {},
   "outputs": [],
   "source": [
    "# Queue using 2 stacks\n",
    "\n",
    "class MyQueue:\n",
    "\n",
    "    def __init__(self):\n",
    "        self.stack1 = []\n",
    "        self.stack2 = []        \n",
    "\n",
    "    def push(self, x: int) -> None:\n",
    "        self.stack1.append(x)\n",
    "\n",
    "    def pop(self) -> int:\n",
    "        while len(self.stack1) > 0:\n",
    "            self.stack2.append(self.stack1.pop())\n",
    "        item = self.stack2.pop()\n",
    "        while len(self.stack2) > 0:\n",
    "            self.stack1.append(self.stack2.pop())\n",
    "        return item\n",
    "    def peek(self) -> int:\n",
    "        return self.stack1[0]\n",
    "    # For queue peek is the firt element\n",
    "\n",
    "    def empty(self) -> bool:\n",
    "        if len(self.stack1) != 0:\n",
    "            return False\n",
    "        return True\n",
    "    \n",
    "obj = MyQueue()\n",
    "obj.push(1)\n",
    "obj.push(2)\n",
    "print(obj.pop())\n",
    "print(obj.peek())\n",
    "print(obj.empty())"
   ]
  },
  {
   "cell_type": "markdown",
   "metadata": {},
   "source": [
    "'deque' module from collections library"
   ]
  },
  {
   "cell_type": "code",
   "execution_count": 183,
   "metadata": {},
   "outputs": [
    {
     "name": "stdout",
     "output_type": "stream",
     "text": [
      "deque(['Mario', 'Luigi', 'Toad'])\n",
      "deque(['Bowser', 'Mario', 'Luigi', 'Toad', 'Yoshi'])\n"
     ]
    },
    {
     "data": {
      "text/plain": [
       "0"
      ]
     },
     "execution_count": 183,
     "metadata": {},
     "output_type": "execute_result"
    }
   ],
   "source": [
    "# Double ended queue : deque()\n",
    "# ----------------------------\n",
    "\n",
    "from collections import deque\n",
    "\n",
    "people = ['Mario', 'Luigi', 'Toad']\n",
    "q = deque(people)\n",
    "print(q)\n",
    "q.append('Yoshi')\n",
    "q.appendleft('Bowser')\n",
    "print(q)"
   ]
  }
 ],
 "metadata": {
  "kernelspec": {
   "display_name": "Python 3",
   "language": "python",
   "name": "python3"
  },
  "language_info": {
   "codemirror_mode": {
    "name": "ipython",
    "version": 3
   },
   "file_extension": ".py",
   "mimetype": "text/x-python",
   "name": "python",
   "nbconvert_exporter": "python",
   "pygments_lexer": "ipython3",
   "version": "3.12.2"
  }
 },
 "nbformat": 4,
 "nbformat_minor": 2
}
