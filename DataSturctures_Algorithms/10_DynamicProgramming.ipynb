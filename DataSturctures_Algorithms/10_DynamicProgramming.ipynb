{
 "cells": [
  {
   "cell_type": "markdown",
   "metadata": {},
   "source": [
    "## Dynamic Programing"
   ]
  },
  {
   "cell_type": "markdown",
   "metadata": {},
   "source": [
    "Main conditions for applying dynamic programming\n",
    "\n",
    " 1. Overlapping sub problems : When a sub problems occur multiple times in a main problem, the solution can be saved to directly access the next time when it is needed rather than computing the solution again. Which in terms result in better overall perfomance or in other words reduces the time and/or space complexity of the main problem.\n",
    " \n",
    " 2. Optimized sub structure : Sub structure is fixed and does not vary\n"
   ]
  },
  {
   "cell_type": "code",
   "execution_count": 72,
   "metadata": {},
   "outputs": [
    {
     "name": "stdout",
     "output_type": "stream",
     "text": [
      "Answer : 3524578\n",
      "Counter: 5702886\n"
     ]
    }
   ],
   "source": [
    "# Typical recursive Fibonacci code\n",
    "counter = 0\n",
    "\n",
    "def fib(n): \n",
    "    if n == 1 or n == 0:\n",
    "        return n\n",
    "    global counter\n",
    "    counter += 1\n",
    "    return fib(n-1) + fib(n-2)\n",
    "\n",
    "print(\"Answer :\", fib(33))\n",
    "print(\"Counter:\", counter)\n",
    "\n",
    "# Time - O(1.6^n) ie, O(2^n)"
   ]
  },
  {
   "cell_type": "markdown",
   "metadata": {},
   "source": [
    "## Memoization"
   ]
  },
  {
   "cell_type": "code",
   "execution_count": 73,
   "metadata": {},
   "outputs": [
    {
     "name": "stdout",
     "output_type": "stream",
     "text": [
      "Answer : 3524578\n",
      "Counter: 65\n"
     ]
    }
   ],
   "source": [
    "# Fibonaci with memoization\n",
    "# TOP DOWN DP\n",
    "\n",
    "memo = [None] * 100\n",
    "counter = 0\n",
    "\n",
    "def fib(n):\n",
    "    global counter\n",
    "    counter += 1\n",
    "    if n == 0 or n == 1:\n",
    "        return n\n",
    "    if memo[n] is not None:\n",
    "        return memo[n]\n",
    "    memo[n] = fib(n-1) + fib(n-2)\n",
    "    return memo[n]\n",
    "\n",
    "print(\"Answer :\", fib(33))\n",
    "print(\"Counter:\", counter)\n",
    "\n",
    "# Time - O(2n-1) ie, O(n)\n",
    "# Space - O(k)"
   ]
  },
  {
   "cell_type": "code",
   "execution_count": 85,
   "metadata": {},
   "outputs": [
    {
     "name": "stdout",
     "output_type": "stream",
     "text": [
      "Answer : 3524578\n",
      "Counter: 34\n"
     ]
    }
   ],
   "source": [
    "'''\n",
    "An LRU (Least Recently Used) cache is a type of data structure that stores a limited number of items and automatically removes the least recently accessed item when the cache reaches its capacity\n",
    "'''\n",
    "from functools import lru_cache\n",
    "# This solution is a little faster than iterative solution even though it is a recursion due to nature of lru cache.\n",
    "\n",
    "counter = 0\n",
    "@lru_cache\n",
    "def fib(n: int) -> int:\n",
    "    global counter\n",
    "    counter += 1\n",
    "    if n<=1:\n",
    "        return n\n",
    "    elif n>1:\n",
    "        return fib(n-1)+ fib(n-2)\n",
    "\n",
    "print(\"Answer :\", fib(33))\n",
    "print(\"Counter:\", counter)"
   ]
  },
  {
   "cell_type": "code",
   "execution_count": 128,
   "metadata": {},
   "outputs": [
    {
     "name": "stdout",
     "output_type": "stream",
     "text": [
      "Answer : 832040\n",
      "Counter: 29\n"
     ]
    }
   ],
   "source": [
    "# Fibonaci iterative solution without memoization\n",
    "# BOTTOMS UP DP\n",
    "\n",
    "counter = 0\n",
    "\n",
    "def fib(n):\n",
    "    fib_list = [0, 1]\n",
    "    # Tabulation\n",
    "\n",
    "    global counter\n",
    "    for i in range(2, n + 1):\n",
    "        val = fib_list[i - 1] + fib_list[i - 2]\n",
    "        fib_list.append(val)\n",
    "        counter += 1\n",
    "    return fib_list[n]\n",
    "\n",
    "print(\"Answer :\", fib(30))\n",
    "print(\"Counter:\", counter)\n",
    "\n",
    "# Time - O(n-1) ie, O(n)\n",
    "# Space - 0(n)"
   ]
  },
  {
   "cell_type": "code",
   "execution_count": 127,
   "metadata": {},
   "outputs": [
    {
     "name": "stdout",
     "output_type": "stream",
     "text": [
      "Answer : 832040\n"
     ]
    }
   ],
   "source": [
    "def fib(n):\n",
    "    if n == 0: return 0\n",
    "    if n == 1: return 1\n",
    "\n",
    "    two_back = 0\n",
    "    one_back = 1\n",
    "    for i in range(2, n+1):\n",
    "        curr = two_back + one_back\n",
    "        two_back = one_back\n",
    "        one_back = curr\n",
    "    return curr\n",
    "\n",
    "print(\"Answer :\", fib(30))\n",
    "\n",
    "# Time - O(n)\n",
    "# Space - 0(1)"
   ]
  },
  {
   "cell_type": "code",
   "execution_count": null,
   "metadata": {},
   "outputs": [],
   "source": []
  }
 ],
 "metadata": {
  "kernelspec": {
   "display_name": "Python 3",
   "language": "python",
   "name": "python3"
  },
  "language_info": {
   "codemirror_mode": {
    "name": "ipython",
    "version": 3
   },
   "file_extension": ".py",
   "mimetype": "text/x-python",
   "name": "python",
   "nbconvert_exporter": "python",
   "pygments_lexer": "ipython3",
   "version": "3.12.2"
  }
 },
 "nbformat": 4,
 "nbformat_minor": 2
}
