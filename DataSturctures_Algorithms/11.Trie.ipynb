{
 "cells": [
  {
   "cell_type": "code",
   "execution_count": 23,
   "metadata": {},
   "outputs": [],
   "source": [
    "class TrieNode:\n",
    "    def __init__(self):\n",
    "        self.child = {}\n",
    "        self.end = False\n",
    "        \n",
    "class Trie:\n",
    "\n",
    "    def __init__(self):\n",
    "        self.root = TrieNode()\n",
    "\n",
    "    def insert(self, word: str) -> None:\n",
    "        cur = self.root\n",
    "        for c in word:\n",
    "            if c not in cur.child:\n",
    "                cur.child[c] = TrieNode()\n",
    "            cur = cur.child[c]\n",
    "        cur.end= True\n",
    "\n",
    "    def search(self, word: str) -> bool:\n",
    "        cur = self.root\n",
    "        for c in word:\n",
    "            if c not in cur.child:\n",
    "                return False\n",
    "            cur = cur.child[c]\n",
    "        return cur.end\n",
    "\n",
    "    def startsWith(self, prefix: str) -> bool:\n",
    "        cur = self.root\n",
    "        for c in prefix:\n",
    "            if c not in cur.child:\n",
    "                return False\n",
    "            cur = cur.child[c]\n",
    "        return True"
   ]
  },
  {
   "cell_type": "code",
   "execution_count": 24,
   "metadata": {},
   "outputs": [
    {
     "name": "stdout",
     "output_type": "stream",
     "text": [
      "True\n",
      "False\n",
      "True\n",
      "True\n"
     ]
    }
   ],
   "source": [
    "T = Trie()\n",
    "T.insert(\"apple\")\n",
    "print(T.search(\"apple\"))\n",
    "print(T.search(\"app\"))\n",
    "print(T.startsWith(\"app\"))\n",
    "T.insert(\"app\")\n",
    "print(T.search(\"app\"))"
   ]
  },
  {
   "cell_type": "code",
   "execution_count": 30,
   "metadata": {},
   "outputs": [],
   "source": [
    "# Somewhat logical representation of a trie (Not accurate as nodes are class instances, and here k-v pairs)\n",
    "\n",
    "root = { 'a': \n",
    "            {'p':\n",
    "                {'p':\n",
    "                    {'l':\n",
    "                        {'e':\n",
    "                            {None},\n",
    "                        'end' : True},  # apple\n",
    "                    'end' : False },\n",
    "                'end' : True },         # app\n",
    "            'end' : False }\n",
    "        ,'end' : False } \n"
   ]
  }
 ],
 "metadata": {
  "kernelspec": {
   "display_name": "Python 3",
   "language": "python",
   "name": "python3"
  },
  "language_info": {
   "codemirror_mode": {
    "name": "ipython",
    "version": 3
   },
   "file_extension": ".py",
   "mimetype": "text/x-python",
   "name": "python",
   "nbconvert_exporter": "python",
   "pygments_lexer": "ipython3",
   "version": "3.12.2"
  }
 },
 "nbformat": 4,
 "nbformat_minor": 2
}
