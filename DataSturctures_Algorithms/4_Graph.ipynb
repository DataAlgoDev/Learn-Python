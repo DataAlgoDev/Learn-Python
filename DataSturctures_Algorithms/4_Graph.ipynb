{
 "cells": [
  {
   "cell_type": "markdown",
   "metadata": {},
   "source": [
    "## Graphs\n",
    "\n",
    "Can be implemented as adjascent matrix O(n**2) or adjascent list O(1)*"
   ]
  },
  {
   "cell_type": "code",
   "execution_count": 57,
   "metadata": {},
   "outputs": [],
   "source": [
    "# Using adjascent list\n",
    "\n",
    "class Graph:\n",
    "    def __init__(self):\n",
    "        self.adj_list = {}\n",
    "\n",
    "    def print_graph(self):\n",
    "        for vertex in self.adj_list:\n",
    "            print(vertex, \":\", self.adj_list[vertex])\n",
    "\n",
    "    def add_vertex(self, vertex):\n",
    "        #O(1)\n",
    "        if vertex not in self.adj_list.keys():\n",
    "            self.adj_list[vertex] = []\n",
    "            return True\n",
    "        return False\n",
    "    \n",
    "    def add_edge(self, v1, v2):\n",
    "        #O(1)\n",
    "        if v1 in self.adj_list.keys() and v2 in self.adj_list.keys():\n",
    "            self.adj_list[v1].append(v2)\n",
    "            self.adj_list[v2].append(v1)\n",
    "            return True\n",
    "        return False\n",
    "    \n",
    "    def remove_edge(self, v1, v2):\n",
    "        #O(1)\n",
    "        if v1 in self.adj_list and v2 in self.adj_list:\n",
    "            self.adj_list[v1].remove(v2)\n",
    "            self.adj_list[v2].remove(v1)\n",
    "            return True\n",
    "        return False\n",
    "    def remove_vertex(self, vertex):\n",
    "        # O(n)\n",
    "        if vertex in self.adj_list:\n",
    "            for edges in self.adj_list[vertex]:\n",
    "                self.adj_list[edges].remove(vertex)\n",
    "            del self.adj_list[vertex]\n",
    "            return True\n",
    "        return False"
   ]
  },
  {
   "cell_type": "code",
   "execution_count": 55,
   "metadata": {},
   "outputs": [
    {
     "name": "stdout",
     "output_type": "stream",
     "text": [
      "A : []\n",
      "B : []\n",
      "C : []\n",
      "\n",
      "A : ['B', 'C']\n",
      "B : ['A', 'C']\n",
      "C : ['B', 'A']\n",
      "\n",
      "A : ['C']\n",
      "B : ['C']\n",
      "C : ['B', 'A']\n"
     ]
    }
   ],
   "source": [
    "my_graph = Graph()\n",
    "my_graph.add_vertex(\"A\")\n",
    "my_graph.add_vertex(\"B\")\n",
    "my_graph.add_vertex(\"C\")\n",
    "my_graph.print_graph()\n",
    "print()\n",
    "my_graph.add_edge(\"A\", \"B\")\n",
    "my_graph.add_edge(\"B\", \"C\")\n",
    "my_graph.add_edge(\"C\", \"A\") # Triangular graph\n",
    "my_graph.print_graph()\n",
    "print()\n",
    "my_graph.remove_edge(\"A\", \"B\")\n",
    "my_graph.print_graph()"
   ]
  },
  {
   "cell_type": "code",
   "execution_count": 63,
   "metadata": {},
   "outputs": [
    {
     "name": "stdout",
     "output_type": "stream",
     "text": [
      "A : ['B', 'C', 'D']\n",
      "B : ['A', 'D']\n",
      "C : ['A', 'D']\n",
      "D : ['A', 'B', 'C']\n",
      "\n",
      "A : ['B', 'C']\n",
      "B : ['A']\n",
      "C : ['A']\n"
     ]
    }
   ],
   "source": [
    "my_graph = Graph()\n",
    "my_graph.add_vertex(\"A\")\n",
    "my_graph.add_vertex(\"B\")\n",
    "my_graph.add_vertex(\"C\")\n",
    "my_graph.add_vertex(\"D\")\n",
    "\n",
    "my_graph.add_edge(\"A\", \"B\")\n",
    "my_graph.add_edge(\"A\", \"C\")\n",
    "my_graph.add_edge(\"A\", \"D\")\n",
    "my_graph.add_edge(\"B\", \"D\")\n",
    "my_graph.add_edge(\"C\", \"D\")\n",
    "my_graph.print_graph()\n",
    "my_graph.remove_vertex(\"D\")\n",
    "print()\n",
    "my_graph.print_graph()"
   ]
  },
  {
   "cell_type": "markdown",
   "metadata": {},
   "source": [
    "## Bottom-Up (Tabulation)\n",
    "***\n",
    "\n",
    "#### Clear Subproblem Order:\n",
    "    The problem can be solved by iteratively filling out a table based on the results of smaller subproblems. If you can easily identify the order in which to compute subproblems, a bottom-up approach is often more straightforward.\n",
    "\n",
    "#### Space Optimization:\n",
    "    If the problem allows, tabulation can be more memory-efficient because it often requires a fixed-size array or table, rather than recursive function calls that might require additional stack space.\n",
    "\n",
    "#### Iterative Solutions Preferred:\n",
    "    If you prefer an iterative solution over recursion, or if you're working in an environment where recursion depth might be limited, bottom-up is a better choice.\n",
    "\n",
    "#### Performance:\n",
    "    Tabulation can sometimes be faster due to reduced overhead from function calls, especially in large problems.\n",
    "\n",
    "\n",
    "## Top-Down (Memoization)\n",
    "***\n",
    "\n",
    "#### Natural Recursive Structure:\n",
    "    If the problem has a natural recursive structure and is easier to express that way, a top-down approach can be more intuitive. This is particularly true for problems with complex overlapping subproblems.\n",
    "\n",
    "#### Less Initial Work:\n",
    "    When you're unsure about the number of subproblems or the overall size of the problem, starting with a top-down approach can be advantageous since you only compute what you need.\n",
    "\n",
    "#### Debugging:\n",
    "    It may be easier to debug a recursive solution because you can follow the flow of function calls more naturally compared to tracking table entries.\n",
    "\n",
    "#### Complex State Management:\n",
    "    If the problem requires managing complex states or conditions, recursion can often handle that more elegantly than building a large table upfront.\n",
    "\n",
    "## Summary\n",
    "\n",
    "Bottom-Up (Tabulation): Best for problems with a clear iterative structure, when you want to optimize space, or when you prefer iterative solutions.\n",
    "Top-Down (Memoization): Suitable for problems that are naturally recursive, when you want to minimize initial setup, or for complex state management."
   ]
  }
 ],
 "metadata": {
  "kernelspec": {
   "display_name": "Python 3",
   "language": "python",
   "name": "python3"
  },
  "language_info": {
   "codemirror_mode": {
    "name": "ipython",
    "version": 3
   },
   "file_extension": ".py",
   "mimetype": "text/x-python",
   "name": "python",
   "nbconvert_exporter": "python",
   "pygments_lexer": "ipython3",
   "version": "3.12.2"
  }
 },
 "nbformat": 4,
 "nbformat_minor": 2
}
